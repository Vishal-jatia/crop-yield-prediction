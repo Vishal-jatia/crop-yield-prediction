{
  "metadata": {
    "kernelspec": {
      "language": "python",
      "display_name": "Python 3",
      "name": "python3"
    },
    "language_info": {
      "pygments_lexer": "ipython3",
      "nbconvert_exporter": "python",
      "version": "3.6.4",
      "file_extension": ".py",
      "codemirror_mode": {
        "name": "ipython",
        "version": 3
      },
      "name": "python",
      "mimetype": "text/x-python"
    },
    "colab": {
      "name": "Crop analysis and prediction",
      "provenance": [],
      "include_colab_link": true
    }
  },
  "nbformat_minor": 0,
  "nbformat": 4,
  "cells": [
    {
      "cell_type": "markdown",
      "metadata": {
        "id": "view-in-github",
        "colab_type": "text"
      },
      "source": [
        "<a href=\"https://colab.research.google.com/github/Vishal-jatia/crop-yield-prediction/blob/main/Crop_analysis_and_prediction.ipynb\" target=\"_parent\"><img src=\"https://colab.research.google.com/assets/colab-badge.svg\" alt=\"Open In Colab\"/></a>"
      ]
    },
    {
      "source": [
        "\n",
        "# IMPORTANT: RUN THIS CELL IN ORDER TO IMPORT YOUR KAGGLE DATA SOURCES\n",
        "# TO THE CORRECT LOCATION (/kaggle/input) IN YOUR NOTEBOOK,\n",
        "# THEN FEEL FREE TO DELETE THIS CELL.\n",
        "# NOTE: THIS NOTEBOOK ENVIRONMENT DIFFERS FROM KAGGLE'S PYTHON\n",
        "# ENVIRONMENT SO THERE MAY BE MISSING LIBRARIES USED BY YOUR\n",
        "# NOTEBOOK.\n",
        "\n",
        "import os\n",
        "import sys\n",
        "from tempfile import NamedTemporaryFile\n",
        "from urllib.request import urlopen\n",
        "from urllib.parse import unquote, urlparse\n",
        "from urllib.error import HTTPError\n",
        "from zipfile import ZipFile\n",
        "import tarfile\n",
        "import shutil\n",
        "\n",
        "CHUNK_SIZE = 40960\n",
        "DATA_SOURCE_MAPPING = 'crop-recommendation-dataset:https%3A%2F%2Fstorage.googleapis.com%2Fkaggle-data-sets%2F1366334%2F2269277%2Fbundle%2Farchive.zip%3FX-Goog-Algorithm%3DGOOG4-RSA-SHA256%26X-Goog-Credential%3Dgcp-kaggle-com%2540kaggle-161607.iam.gserviceaccount.com%252F20240226%252Fauto%252Fstorage%252Fgoog4_request%26X-Goog-Date%3D20240226T175612Z%26X-Goog-Expires%3D259200%26X-Goog-SignedHeaders%3Dhost%26X-Goog-Signature%3D64d41cc5541e682df74eacad30cf672d472adba1d0eec8129aba1d5194bee105f8dd7568f0185aa25e58d507ae7567810670658aa32b72e5974b6ef0a74f75955c6a40f061cadcf2033be87ddf319b4b1b97d1101ce933d0751af1fba26b28e43f7e049ca4d128dc7df13290544d3fd26a8c4314fdf6eb22392ef37493a5364118278f828300ddfe6cdca4baec478f327ad439466be75b16648dcab5b4a119f327f4b05b9c5972462f6c0a5ac8e04b706eb3822ed988790c51306530fcf0d3cb4ac406627412c2abac78be72cda479b9f926dc7c085f1ac16a1189ff4836dc1191eab6b76e4efe3d28f94821dbaf3ea86b7109e44810c7fda79f2f8038e5d06c'\n",
        "\n",
        "KAGGLE_INPUT_PATH='/kaggle/input'\n",
        "KAGGLE_WORKING_PATH='/kaggle/working'\n",
        "KAGGLE_SYMLINK='kaggle'\n",
        "\n",
        "!umount /kaggle/input/ 2> /dev/null\n",
        "shutil.rmtree('/kaggle/input', ignore_errors=True)\n",
        "os.makedirs(KAGGLE_INPUT_PATH, 0o777, exist_ok=True)\n",
        "os.makedirs(KAGGLE_WORKING_PATH, 0o777, exist_ok=True)\n",
        "\n",
        "try:\n",
        "  os.symlink(KAGGLE_INPUT_PATH, os.path.join(\"..\", 'input'), target_is_directory=True)\n",
        "except FileExistsError:\n",
        "  pass\n",
        "try:\n",
        "  os.symlink(KAGGLE_WORKING_PATH, os.path.join(\"..\", 'working'), target_is_directory=True)\n",
        "except FileExistsError:\n",
        "  pass\n",
        "\n",
        "for data_source_mapping in DATA_SOURCE_MAPPING.split(','):\n",
        "    directory, download_url_encoded = data_source_mapping.split(':')\n",
        "    download_url = unquote(download_url_encoded)\n",
        "    filename = urlparse(download_url).path\n",
        "    destination_path = os.path.join(KAGGLE_INPUT_PATH, directory)\n",
        "    try:\n",
        "        with urlopen(download_url) as fileres, NamedTemporaryFile() as tfile:\n",
        "            total_length = fileres.headers['content-length']\n",
        "            print(f'Downloading {directory}, {total_length} bytes compressed')\n",
        "            dl = 0\n",
        "            data = fileres.read(CHUNK_SIZE)\n",
        "            while len(data) > 0:\n",
        "                dl += len(data)\n",
        "                tfile.write(data)\n",
        "                done = int(50 * dl / int(total_length))\n",
        "                sys.stdout.write(f\"\\r[{'=' * done}{' ' * (50-done)}] {dl} bytes downloaded\")\n",
        "                sys.stdout.flush()\n",
        "                data = fileres.read(CHUNK_SIZE)\n",
        "            if filename.endswith('.zip'):\n",
        "              with ZipFile(tfile) as zfile:\n",
        "                zfile.extractall(destination_path)\n",
        "            else:\n",
        "              with tarfile.open(tfile.name) as tarfile:\n",
        "                tarfile.extractall(destination_path)\n",
        "            print(f'\\nDownloaded and uncompressed: {directory}')\n",
        "    except HTTPError as e:\n",
        "        print(f'Failed to load (likely expired) {download_url} to path {destination_path}')\n",
        "        continue\n",
        "    except OSError as e:\n",
        "        print(f'Failed to load {download_url} to path {destination_path}')\n",
        "        continue\n",
        "\n",
        "print('Data source import complete.')\n"
      ],
      "metadata": {
        "id": "DAMXe2YSj3H1"
      },
      "cell_type": "code",
      "outputs": [],
      "execution_count": null
    },
    {
      "cell_type": "markdown",
      "source": [
        "# <center>CROP RECOMMENDATION USING WEATHER AND SOIL CONTENT</center>\n",
        "<center><img src= \"https://media.nationalgeographic.org/assets/photos/120/983/091a0e2f-b93d-481b-9a60-db520c87ec33.jpg\" alt =\"Titanic\" style='width:500px;'></center><br>\n"
      ],
      "metadata": {
        "execution": {
          "iopub.status.busy": "2021-05-27T12:06:48.238462Z",
          "iopub.execute_input": "2021-05-27T12:06:48.239027Z",
          "iopub.status.idle": "2021-05-27T12:06:48.245744Z",
          "shell.execute_reply.started": "2021-05-27T12:06:48.238895Z",
          "shell.execute_reply": "2021-05-27T12:06:48.244007Z"
        },
        "id": "tOhXfLNsj3IO"
      }
    },
    {
      "cell_type": "markdown",
      "source": [
        "- <h3> Machine Learning is well equipped when it comes to analyzing data regarding soil conditions, including moisture level, temperature, and chemical makeup, all of which have an impact upon crop growth and livestock well-being.<br>\n",
        "- <h3> Today in agriculture, this can allow crops to be grown at much higher precision, enabling farmers to treat plants and animals almost individually, which in turn significantly increases the effectiveness of farmers' decisions.<br>\n",
        "- <h3> Using this can develop means to even predict harvest yields and evaluate crop quality for individual plant species to detect crop disease and weed infestations which were previouly impossible!"
      ],
      "metadata": {
        "execution": {
          "iopub.status.busy": "2021-05-27T17:09:06.42743Z",
          "iopub.execute_input": "2021-05-27T17:09:06.428125Z",
          "iopub.status.idle": "2021-05-27T17:09:06.436102Z",
          "shell.execute_reply.started": "2021-05-27T17:09:06.428081Z",
          "shell.execute_reply": "2021-05-27T17:09:06.434709Z"
        },
        "id": "j6os4y7uj3IZ"
      }
    },
    {
      "cell_type": "code",
      "source": [
        "# This Python 3 environment comes with many helpful analytics libraries installed\n",
        "# It is defined by the kaggle/python Docker image: https://github.com/kaggle/docker-python\n",
        "# For example, here's several helpful packages to load\n",
        "\n",
        "import numpy as np # linear algebra\n",
        "import pandas as pd # data processing, CSV file I/O (e.g. pd.read_csv)\n",
        "\n",
        "# Input data files are available in the read-only \"../input/\" directory\n",
        "# For example, running this (by clicking run or pressing Shift+Enter) will list all files under the input directory\n",
        "\n",
        "import os\n",
        "for dirname, _, filenames in os.walk('/kaggle/input'):\n",
        "    for filename in filenames:\n",
        "        print(os.path.join(dirname, filename))\n",
        "\n",
        "# You can write up to 20GB to the current directory (/kaggle/working/) that gets preserved as output when you create a version using \"Save & Run All\"\n",
        "# You can also write temporary files to /kaggle/temp/, but they won't be saved outside of the current session"
      ],
      "metadata": {
        "_uuid": "8f2839f25d086af736a60e9eeb907d3b93b6e0e5",
        "_cell_guid": "b1076dfc-b9ad-4769-8c92-a6c4dae69d19",
        "execution": {
          "iopub.status.busy": "2021-05-27T17:18:52.724763Z",
          "iopub.execute_input": "2021-05-27T17:18:52.725384Z",
          "iopub.status.idle": "2021-05-27T17:18:52.745331Z",
          "shell.execute_reply.started": "2021-05-27T17:18:52.72529Z",
          "shell.execute_reply": "2021-05-27T17:18:52.743984Z"
        },
        "trusted": true,
        "id": "7jqtCnn0j3Ic"
      },
      "execution_count": null,
      "outputs": []
    },
    {
      "cell_type": "code",
      "source": [
        "import warnings\n",
        "warnings.simplefilter(action='ignore', category=FutureWarning)\n",
        "warnings.simplefilter(action='ignore', category=UserWarning)\n",
        "import seaborn as sns\n",
        "import matplotlib.pyplot as plt\n",
        "%matplotlib inline"
      ],
      "metadata": {
        "execution": {
          "iopub.status.busy": "2021-05-27T17:18:52.747239Z",
          "iopub.execute_input": "2021-05-27T17:18:52.747554Z",
          "iopub.status.idle": "2021-05-27T17:18:53.678484Z",
          "shell.execute_reply.started": "2021-05-27T17:18:52.747525Z",
          "shell.execute_reply": "2021-05-27T17:18:53.677475Z"
        },
        "trusted": true,
        "id": "gw1_SAGQj3Ig"
      },
      "execution_count": null,
      "outputs": []
    },
    {
      "cell_type": "code",
      "source": [
        "df=pd.read_csv('../input/crop-recommendation-dataset/Crop_recommendation.csv')\n",
        "df.head()"
      ],
      "metadata": {
        "execution": {
          "iopub.status.busy": "2021-05-27T17:18:53.682736Z",
          "iopub.execute_input": "2021-05-27T17:18:53.683314Z",
          "iopub.status.idle": "2021-05-27T17:18:53.730316Z",
          "shell.execute_reply.started": "2021-05-27T17:18:53.683278Z",
          "shell.execute_reply": "2021-05-27T17:18:53.729516Z"
        },
        "trusted": true,
        "id": "28__UQdZj3Il"
      },
      "execution_count": null,
      "outputs": []
    },
    {
      "cell_type": "code",
      "source": [
        "df.describe()"
      ],
      "metadata": {
        "execution": {
          "iopub.status.busy": "2021-05-27T17:18:53.731673Z",
          "iopub.execute_input": "2021-05-27T17:18:53.732117Z",
          "iopub.status.idle": "2021-05-27T17:18:53.776745Z",
          "shell.execute_reply.started": "2021-05-27T17:18:53.732085Z",
          "shell.execute_reply": "2021-05-27T17:18:53.775979Z"
        },
        "trusted": true,
        "id": "QzyNRR9Rj3Im"
      },
      "execution_count": null,
      "outputs": []
    },
    {
      "cell_type": "markdown",
      "source": [
        "# Exploratory Data Analysis\n",
        "\n",
        "### Heatmap to check null/missing values"
      ],
      "metadata": {
        "id": "SVNBjiW0j3Io"
      }
    },
    {
      "cell_type": "code",
      "source": [
        "sns.heatmap(df.isnull(),cmap=\"coolwarm\")\n",
        "plt.show()"
      ],
      "metadata": {
        "execution": {
          "iopub.status.busy": "2021-05-27T17:18:53.777736Z",
          "iopub.execute_input": "2021-05-27T17:18:53.778169Z",
          "iopub.status.idle": "2021-05-27T17:18:54.228871Z",
          "shell.execute_reply.started": "2021-05-27T17:18:53.778125Z",
          "shell.execute_reply": "2021-05-27T17:18:54.228117Z"
        },
        "trusted": true,
        "id": "PTznTSIoj3Iq"
      },
      "execution_count": null,
      "outputs": []
    },
    {
      "cell_type": "markdown",
      "source": [
        "<h4> <u>Let's have a closer look at the distribution of temperature and ph.</u><br><br>\n",
        "    \n",
        "It is symmetrical and bell shaped, showing that trials will usually give a result near the average, but will occasionally deviate by large amounts. It's also fascinating how these two really resemble each other!</h4>"
      ],
      "metadata": {
        "id": "BpvGSrwEj3Ir"
      }
    },
    {
      "cell_type": "code",
      "source": [
        "plt.figure(figsize=(12,5))\n",
        "plt.subplot(1, 2, 1)\n",
        "# sns.distplot(df_setosa['sepal_length'],kde=True,color='green',bins=20,hist_kws={'alpha':0.3})\n",
        "sns.distplot(df['temperature'],color=\"purple\",bins=15,hist_kws={'alpha':0.2})\n",
        "plt.subplot(1, 2, 2)\n",
        "sns.distplot(df['ph'],color=\"green\",bins=15,hist_kws={'alpha':0.2})"
      ],
      "metadata": {
        "execution": {
          "iopub.status.busy": "2021-05-27T17:18:54.229847Z",
          "iopub.execute_input": "2021-05-27T17:18:54.23026Z",
          "iopub.status.idle": "2021-05-27T17:18:54.658123Z",
          "shell.execute_reply.started": "2021-05-27T17:18:54.230226Z",
          "shell.execute_reply": "2021-05-27T17:18:54.657113Z"
        },
        "trusted": true,
        "id": "rrdgX9p4j3Is"
      },
      "execution_count": null,
      "outputs": []
    },
    {
      "cell_type": "markdown",
      "source": [
        "<h4> A quick check if the dataset is balanced or not. If found imbalanced, we would have to downsample some targets which are more in quantity but so far everything looks good! <h4>"
      ],
      "metadata": {
        "id": "O24tuEVAj3Is"
      }
    },
    {
      "cell_type": "code",
      "source": [
        "sns.countplot(y='label',data=df, palette=\"plasma_r\")"
      ],
      "metadata": {
        "execution": {
          "iopub.status.busy": "2021-05-27T17:18:54.659416Z",
          "iopub.execute_input": "2021-05-27T17:18:54.65998Z",
          "iopub.status.idle": "2021-05-27T17:18:54.95842Z",
          "shell.execute_reply.started": "2021-05-27T17:18:54.659934Z",
          "shell.execute_reply": "2021-05-27T17:18:54.957643Z"
        },
        "trusted": true,
        "id": "yE-pcvTFj3It"
      },
      "execution_count": null,
      "outputs": []
    },
    {
      "cell_type": "markdown",
      "source": [
        "<h4> A very important plot to visualize the diagonal distribution between two features for all the combinations! It is great to visualize how classes differ from each other in a particular space."
      ],
      "metadata": {
        "execution": {
          "iopub.status.busy": "2021-05-26T16:06:33.590018Z",
          "iopub.execute_input": "2021-05-26T16:06:33.590382Z",
          "iopub.status.idle": "2021-05-26T16:06:33.596192Z",
          "shell.execute_reply.started": "2021-05-26T16:06:33.590352Z",
          "shell.execute_reply": "2021-05-26T16:06:33.594924Z"
        },
        "id": "qJt-US-Yj3Iu"
      }
    },
    {
      "cell_type": "code",
      "source": [
        "sns.pairplot(df, hue = 'label')"
      ],
      "metadata": {
        "execution": {
          "iopub.status.busy": "2021-05-27T17:18:54.961319Z",
          "iopub.execute_input": "2021-05-27T17:18:54.961899Z",
          "iopub.status.idle": "2021-05-27T17:19:36.581111Z",
          "shell.execute_reply.started": "2021-05-27T17:18:54.961864Z",
          "shell.execute_reply": "2021-05-27T17:19:36.580215Z"
        },
        "trusted": true,
        "id": "DTRBnCfoj3Iu"
      },
      "execution_count": null,
      "outputs": []
    },
    {
      "cell_type": "markdown",
      "source": [
        "#### During rainy season, average rainfall is high (average 120 mm) and temperature is mildly chill (less than 30'C).\n",
        "\n",
        "#### Rain affects soil moisture which affects ph of the soil. Here are the crops which are likely to be planted during this season.\n",
        "\n",
        "- <b> Rice needs heavy rainfall (>200 mm) and a humidity above 80%. No wonder major rice production in India comes from East Coasts which has average of 220 mm rainfall every year!\n",
        "- <b> Coconut is a tropical crop and needs high humidity therefore explaining massive exports from coastal areas around the country."
      ],
      "metadata": {
        "id": "7d_P6VV-j3Iu"
      }
    },
    {
      "cell_type": "code",
      "source": [
        "sns.jointplot(x=\"rainfall\",y=\"humidity\",data=df[(df['temperature']<30) & (df['rainfall']>120)],hue=\"label\")"
      ],
      "metadata": {
        "execution": {
          "iopub.status.busy": "2021-05-27T17:19:36.582617Z",
          "iopub.execute_input": "2021-05-27T17:19:36.583025Z",
          "iopub.status.idle": "2021-05-27T17:19:37.593622Z",
          "shell.execute_reply.started": "2021-05-27T17:19:36.582995Z",
          "shell.execute_reply": "2021-05-27T17:19:37.592789Z"
        },
        "trusted": true,
        "id": "ve7rzPwTj3Iv"
      },
      "execution_count": null,
      "outputs": []
    },
    {
      "cell_type": "markdown",
      "source": [
        "#### This graph correlates with average potassium (K) and average nitrogen (N) value (both>50).\n",
        "#### These soil ingredients direcly affects nutrition value of the food. Fruits which have high nutrients typically has consistent potassium values."
      ],
      "metadata": {
        "id": "KgqrKuk3j3Iw"
      }
    },
    {
      "cell_type": "code",
      "source": [
        "sns.jointplot(x=\"K\",y=\"N\",data=df[(df['N']>40)&(df['K']>40)],hue=\"label\")"
      ],
      "metadata": {
        "execution": {
          "iopub.status.busy": "2021-05-27T17:19:37.594635Z",
          "iopub.execute_input": "2021-05-27T17:19:37.595024Z",
          "iopub.status.idle": "2021-05-27T17:19:38.366298Z",
          "shell.execute_reply.started": "2021-05-27T17:19:37.594996Z",
          "shell.execute_reply": "2021-05-27T17:19:38.365274Z"
        },
        "trusted": true,
        "id": "Z0KK_60Uj3Iw"
      },
      "execution_count": null,
      "outputs": []
    },
    {
      "cell_type": "markdown",
      "source": [
        "<h4>Let's try to plot a specfic case of pairplot between `humidity` and `K` (potassium levels in the soil.)</h4>\n",
        "\n",
        "#### `sns.jointplot()` can be used for bivariate analysis to plot between humidity and K levels based on Label type. It further generates frequency distribution of classes with respect to features"
      ],
      "metadata": {
        "id": "djIvdfQCj3Ix"
      }
    },
    {
      "cell_type": "code",
      "source": [
        "sns.jointplot(x=\"K\",y=\"humidity\",data=df,hue='label',size=8,s=30,alpha=0.7)"
      ],
      "metadata": {
        "execution": {
          "iopub.status.busy": "2021-05-27T17:19:38.367728Z",
          "iopub.execute_input": "2021-05-27T17:19:38.368021Z",
          "iopub.status.idle": "2021-05-27T17:19:39.897073Z",
          "shell.execute_reply.started": "2021-05-27T17:19:38.367992Z",
          "shell.execute_reply": "2021-05-27T17:19:39.895944Z"
        },
        "trusted": true,
        "id": "ABBR4oDlj3Ix"
      },
      "execution_count": null,
      "outputs": []
    },
    {
      "cell_type": "markdown",
      "source": [
        "#### We can see ph values are critical when it comes to soil. A stability between 6 and 7 is preffered"
      ],
      "metadata": {
        "id": "alEgraIdj3Ix"
      }
    },
    {
      "cell_type": "code",
      "source": [
        "sns.boxplot(y='label',x='ph',data=df)"
      ],
      "metadata": {
        "execution": {
          "iopub.status.busy": "2021-05-27T17:19:39.898767Z",
          "iopub.execute_input": "2021-05-27T17:19:39.899188Z",
          "iopub.status.idle": "2021-05-27T17:19:40.466096Z",
          "shell.execute_reply.started": "2021-05-27T17:19:39.899118Z",
          "shell.execute_reply": "2021-05-27T17:19:40.465109Z"
        },
        "trusted": true,
        "id": "E2bsQCLsj3Iy"
      },
      "execution_count": null,
      "outputs": []
    },
    {
      "cell_type": "markdown",
      "source": [
        "#### Another interesting analysis where Phosphorous levels are quite differentiable when it rains heavily (above 150 mm)."
      ],
      "metadata": {
        "id": "C0g7DbhVj3Iy"
      }
    },
    {
      "cell_type": "code",
      "source": [
        "sns.boxplot(y='label',x='P',data=df[df['rainfall']>150])"
      ],
      "metadata": {
        "execution": {
          "iopub.status.busy": "2021-05-27T17:19:40.467537Z",
          "iopub.execute_input": "2021-05-27T17:19:40.467851Z",
          "iopub.status.idle": "2021-05-27T17:19:40.716539Z",
          "shell.execute_reply.started": "2021-05-27T17:19:40.46782Z",
          "shell.execute_reply": "2021-05-27T17:19:40.715557Z"
        },
        "trusted": true,
        "id": "80sHWsVtj3Iz"
      },
      "execution_count": null,
      "outputs": []
    },
    {
      "cell_type": "markdown",
      "source": [
        "#### Further analyzing phosphorous levels.\n",
        "\n",
        "When humidity is less than 65, almost same phosphor levels(approx 14 to 25) are required for 6 crops which could be grown just based on the amount of rain expected over the next few weeks."
      ],
      "metadata": {
        "execution": {
          "iopub.status.busy": "2021-05-27T04:09:14.720513Z",
          "iopub.execute_input": "2021-05-27T04:09:14.720949Z",
          "iopub.status.idle": "2021-05-27T04:09:14.72936Z",
          "shell.execute_reply.started": "2021-05-27T04:09:14.720912Z",
          "shell.execute_reply": "2021-05-27T04:09:14.727764Z"
        },
        "id": "W2tCC8mdj3Iz"
      }
    },
    {
      "cell_type": "code",
      "source": [
        "sns.lineplot(data = df[(df['humidity']<65)], x = \"K\", y = \"rainfall\",hue=\"label\")"
      ],
      "metadata": {
        "execution": {
          "iopub.status.busy": "2021-05-27T17:19:40.719241Z",
          "iopub.execute_input": "2021-05-27T17:19:40.719593Z",
          "iopub.status.idle": "2021-05-27T17:19:44.260686Z",
          "shell.execute_reply.started": "2021-05-27T17:19:40.719561Z",
          "shell.execute_reply": "2021-05-27T17:19:44.259438Z"
        },
        "trusted": true,
        "id": "H6Xj8cTej3I0"
      },
      "execution_count": null,
      "outputs": []
    },
    {
      "cell_type": "markdown",
      "source": [
        "# DATA PRE-PROCESSING\n",
        "\n",
        "### Let's make the data ready for machine learning model"
      ],
      "metadata": {
        "id": "4tHlbACIj3I0"
      }
    },
    {
      "cell_type": "code",
      "source": [
        "c=df.label.astype('category')\n",
        "targets = dict(enumerate(c.cat.categories))\n",
        "df['target']=c.cat.codes\n",
        "\n",
        "y=df.target\n",
        "X=df[['N','P','K','temperature','humidity','ph','rainfall']]"
      ],
      "metadata": {
        "execution": {
          "iopub.status.busy": "2021-05-27T17:19:44.262261Z",
          "iopub.execute_input": "2021-05-27T17:19:44.26269Z",
          "iopub.status.idle": "2021-05-27T17:19:44.272248Z",
          "shell.execute_reply.started": "2021-05-27T17:19:44.262645Z",
          "shell.execute_reply": "2021-05-27T17:19:44.270883Z"
        },
        "trusted": true,
        "id": "BeUVuEc1j3I0"
      },
      "execution_count": null,
      "outputs": []
    },
    {
      "cell_type": "markdown",
      "source": [
        "**Correlation visualization between features. We can see how Phosphorous levels and Potassium levels are highly correlated.**"
      ],
      "metadata": {
        "id": "l9xgMQqWj3I1"
      }
    },
    {
      "cell_type": "code",
      "source": [
        "sns.heatmap(X.corr())"
      ],
      "metadata": {
        "execution": {
          "iopub.status.busy": "2021-05-27T17:19:44.273995Z",
          "iopub.execute_input": "2021-05-27T17:19:44.274483Z",
          "iopub.status.idle": "2021-05-27T17:19:44.629156Z",
          "shell.execute_reply.started": "2021-05-27T17:19:44.274437Z",
          "shell.execute_reply": "2021-05-27T17:19:44.628307Z"
        },
        "trusted": true,
        "id": "B0ifhI5Qj3I1"
      },
      "execution_count": null,
      "outputs": []
    },
    {
      "cell_type": "markdown",
      "source": [
        "# FEATURE SCALING\n",
        "**Feature scaling is required before creating training data and feeding it to the model.**\n",
        "\n",
        "As we saw earlier, two of our features (temperature and ph) are gaussian distributed, therefore scaling them between 0 and 1 with MinMaxScaler."
      ],
      "metadata": {
        "id": "_YGFJxm9j3I2"
      }
    },
    {
      "cell_type": "code",
      "source": [
        "from sklearn.model_selection import train_test_split\n",
        "from sklearn.preprocessing import MinMaxScaler\n",
        "\n",
        "X_train, X_test, y_train, y_test = train_test_split(X, y,random_state=1)\n",
        "\n",
        "scaler = MinMaxScaler()\n",
        "X_train_scaled = scaler.fit_transform(X_train)\n",
        "\n",
        "# we must apply the scaling to the test set as well that we are computing for the training set\n",
        "X_test_scaled = scaler.transform(X_test)"
      ],
      "metadata": {
        "execution": {
          "iopub.status.busy": "2021-05-27T17:19:44.630507Z",
          "iopub.execute_input": "2021-05-27T17:19:44.630932Z",
          "iopub.status.idle": "2021-05-27T17:19:44.854631Z",
          "shell.execute_reply.started": "2021-05-27T17:19:44.630901Z",
          "shell.execute_reply": "2021-05-27T17:19:44.853535Z"
        },
        "trusted": true,
        "id": "q2dvkPEqj3I3"
      },
      "execution_count": null,
      "outputs": []
    },
    {
      "cell_type": "markdown",
      "source": [
        "# MODEL SELECTION\n",
        "\n",
        "## KNN Classifier for Crop prediction.\n",
        "<hr>"
      ],
      "metadata": {
        "id": "WwD2tDa4j3I3"
      }
    },
    {
      "cell_type": "code",
      "source": [
        "from sklearn.neighbors import KNeighborsClassifier\n",
        "knn = KNeighborsClassifier()\n",
        "knn.fit(X_train_scaled, y_train)\n",
        "knn.score(X_test_scaled, y_test)"
      ],
      "metadata": {
        "execution": {
          "iopub.status.busy": "2021-05-27T17:19:44.858346Z",
          "iopub.execute_input": "2021-05-27T17:19:44.858687Z",
          "iopub.status.idle": "2021-05-27T17:19:45.06958Z",
          "shell.execute_reply.started": "2021-05-27T17:19:44.858654Z",
          "shell.execute_reply": "2021-05-27T17:19:45.068563Z"
        },
        "trusted": true,
        "id": "xu3d3LVCj3I3"
      },
      "execution_count": null,
      "outputs": []
    },
    {
      "cell_type": "markdown",
      "source": [
        "### Confusion Matrix"
      ],
      "metadata": {
        "id": "i0Cy6Wn4j3I4"
      }
    },
    {
      "cell_type": "code",
      "source": [
        "from sklearn.metrics import confusion_matrix\n",
        "mat=confusion_matrix(y_test,knn.predict(X_test_scaled))\n",
        "df_cm = pd.DataFrame(mat, list(targets.values()), list(targets.values()))\n",
        "sns.set(font_scale=1.0) # for label size\n",
        "plt.figure(figsize = (12,8))\n",
        "sns.heatmap(df_cm, annot=True, annot_kws={\"size\": 12},cmap=\"terrain\")"
      ],
      "metadata": {
        "execution": {
          "iopub.status.busy": "2021-05-27T17:19:45.070857Z",
          "iopub.execute_input": "2021-05-27T17:19:45.0712Z",
          "iopub.status.idle": "2021-05-27T17:19:47.381859Z",
          "shell.execute_reply.started": "2021-05-27T17:19:45.071161Z",
          "shell.execute_reply": "2021-05-27T17:19:47.381094Z"
        },
        "trusted": true,
        "id": "qjwkLUjMj3I4"
      },
      "execution_count": null,
      "outputs": []
    },
    {
      "cell_type": "markdown",
      "source": [
        "### Let's try different values of n_neighbors to fine tune and get better results"
      ],
      "metadata": {
        "id": "Bu7jekFoj3I4"
      }
    },
    {
      "cell_type": "code",
      "source": [
        "k_range = range(1,11)\n",
        "scores = []\n",
        "\n",
        "for k in k_range:\n",
        "    knn = KNeighborsClassifier(n_neighbors = k)\n",
        "    knn.fit(X_train_scaled, y_train)\n",
        "    scores.append(knn.score(X_test_scaled, y_test))\n",
        "\n",
        "plt.xlabel('k')\n",
        "plt.ylabel('accuracy')\n",
        "plt.scatter(k_range, scores)\n",
        "plt.vlines(k_range,0, scores, linestyle=\"dashed\")\n",
        "plt.ylim(0.96,0.99)\n",
        "plt.xticks([i for i in range(1,11)]);"
      ],
      "metadata": {
        "execution": {
          "iopub.status.busy": "2021-05-27T17:19:47.382861Z",
          "iopub.execute_input": "2021-05-27T17:19:47.383262Z",
          "iopub.status.idle": "2021-05-27T17:19:47.91668Z",
          "shell.execute_reply.started": "2021-05-27T17:19:47.383233Z",
          "shell.execute_reply": "2021-05-27T17:19:47.915972Z"
        },
        "trusted": true,
        "id": "BBfiOHIsj3I4"
      },
      "execution_count": null,
      "outputs": []
    },
    {
      "cell_type": "markdown",
      "source": [
        "## Classification using Support Vector Classifer (SVC)\n",
        "<hr>"
      ],
      "metadata": {
        "id": "B158aYM1j3I_"
      }
    },
    {
      "cell_type": "code",
      "source": [
        "from sklearn.svm import SVC\n",
        "\n",
        "svc_linear = SVC(kernel = 'linear').fit(X_train_scaled, y_train)\n",
        "print(\"Linear Kernel Accuracy: \",svc_linear.score(X_test_scaled,y_test))\n",
        "\n",
        "svc_poly = SVC(kernel = 'rbf').fit(X_train_scaled, y_train)\n",
        "print(\"Rbf Kernel Accuracy: \", svc_poly.score(X_test_scaled,y_test))\n",
        "\n",
        "svc_poly = SVC(kernel = 'poly').fit(X_train_scaled, y_train)\n",
        "print(\"Poly Kernel Accuracy: \", svc_poly.score(X_test_scaled,y_test))"
      ],
      "metadata": {
        "execution": {
          "iopub.status.busy": "2021-05-27T17:19:47.917667Z",
          "iopub.execute_input": "2021-05-27T17:19:47.918047Z",
          "iopub.status.idle": "2021-05-27T17:19:48.112754Z",
          "shell.execute_reply.started": "2021-05-27T17:19:47.918018Z",
          "shell.execute_reply": "2021-05-27T17:19:48.11184Z"
        },
        "trusted": true,
        "id": "ju3gTNFNj3JA"
      },
      "execution_count": null,
      "outputs": []
    },
    {
      "cell_type": "markdown",
      "source": [
        "### Let's try to increase SVC Linear model accuracy by parameter tuning.\n",
        "\n",
        "**GridSearchCV can help us find the best parameters.**"
      ],
      "metadata": {
        "id": "V-zRcYDaj3JA"
      }
    },
    {
      "cell_type": "code",
      "source": [
        "from sklearn.metrics import accuracy_score\n",
        "from sklearn.model_selection import GridSearchCV\n",
        "\n",
        "parameters = {'C': np.logspace(-3, 2, 6).tolist(), 'gamma': np.logspace(-3, 2, 6).tolist()}\n",
        "# 'degree': np.arange(0,5,1).tolist(), 'kernel':['linear','rbf','poly']\n",
        "\n",
        "model = GridSearchCV(estimator = SVC(kernel=\"linear\"), param_grid=parameters, n_jobs=-1, cv=4)\n",
        "model.fit(X_train, y_train)"
      ],
      "metadata": {
        "execution": {
          "iopub.status.busy": "2021-05-27T17:19:48.114048Z",
          "iopub.execute_input": "2021-05-27T17:19:48.114677Z",
          "iopub.status.idle": "2021-05-27T17:19:54.309278Z",
          "shell.execute_reply.started": "2021-05-27T17:19:48.114632Z",
          "shell.execute_reply": "2021-05-27T17:19:54.308183Z"
        },
        "trusted": true,
        "id": "3ajNJypjj3JA"
      },
      "execution_count": null,
      "outputs": []
    },
    {
      "cell_type": "code",
      "source": [
        "print(model.best_score_ )\n",
        "print(model.best_params_ )"
      ],
      "metadata": {
        "execution": {
          "iopub.status.busy": "2021-05-27T17:19:54.313045Z",
          "iopub.execute_input": "2021-05-27T17:19:54.313378Z",
          "iopub.status.idle": "2021-05-27T17:19:54.319287Z",
          "shell.execute_reply.started": "2021-05-27T17:19:54.313344Z",
          "shell.execute_reply": "2021-05-27T17:19:54.318065Z"
        },
        "trusted": true,
        "id": "tsssQ71Cj3JA"
      },
      "execution_count": null,
      "outputs": []
    },
    {
      "cell_type": "markdown",
      "source": [
        "**POINTS TO BE HIGHLIGHTED**\n",
        "1. *Interestingly liner kernel also gives satisfactory results but fine tuning increases the computation and might be inefficient in some cases*\n",
        "2. *The accuracy can be increased in poly kernel by tweaking parameters but might lead to intensive overfitting.*\n",
        "3. *RBF has better result than linear kernel.*\n",
        "4. *Poly kernel so far wins by a small margin.*"
      ],
      "metadata": {
        "id": "-IRQB98lj3JB"
      }
    },
    {
      "cell_type": "markdown",
      "source": [
        "## Classifying using decision tree\n",
        "<hr>"
      ],
      "metadata": {
        "id": "9CdhXOc3j3JB"
      }
    },
    {
      "cell_type": "code",
      "source": [
        "from sklearn.tree import DecisionTreeClassifier\n",
        "\n",
        "clf = DecisionTreeClassifier(random_state=42).fit(X_train, y_train)\n",
        "clf.score(X_test,y_test)"
      ],
      "metadata": {
        "execution": {
          "iopub.status.busy": "2021-05-27T17:19:54.32111Z",
          "iopub.execute_input": "2021-05-27T17:19:54.321589Z",
          "iopub.status.idle": "2021-05-27T17:19:54.383171Z",
          "shell.execute_reply.started": "2021-05-27T17:19:54.321552Z",
          "shell.execute_reply": "2021-05-27T17:19:54.382247Z"
        },
        "trusted": true,
        "id": "FUhK8Mi4j3JB"
      },
      "execution_count": null,
      "outputs": []
    },
    {
      "cell_type": "markdown",
      "source": [
        "### Let's visualize the import features which are taken into consideration by decision trees."
      ],
      "metadata": {
        "id": "6ylhFBtdj3JB"
      }
    },
    {
      "cell_type": "code",
      "source": [
        "plt.figure(figsize=(10,4), dpi=80)\n",
        "c_features = len(X_train.columns)\n",
        "plt.barh(range(c_features), clf.feature_importances_)\n",
        "plt.xlabel(\"Feature importance\")\n",
        "plt.ylabel(\"Feature name\")\n",
        "plt.yticks(np.arange(c_features), X_train.columns)\n",
        "plt.show()"
      ],
      "metadata": {
        "execution": {
          "iopub.status.busy": "2021-05-27T17:19:54.384468Z",
          "iopub.execute_input": "2021-05-27T17:19:54.38476Z",
          "iopub.status.idle": "2021-05-27T17:19:54.63202Z",
          "shell.execute_reply.started": "2021-05-27T17:19:54.384732Z",
          "shell.execute_reply": "2021-05-27T17:19:54.631325Z"
        },
        "trusted": true,
        "id": "1sxGhgvxj3JC"
      },
      "execution_count": null,
      "outputs": []
    },
    {
      "cell_type": "markdown",
      "source": [
        "## Classification using Random Forest.\n",
        "<hr>"
      ],
      "metadata": {
        "id": "MkAU46_bj3JC"
      }
    },
    {
      "cell_type": "code",
      "source": [
        "'''\n",
        "max depth and n_estimator are important to fine tune otherwise trees will be densely graphed which will be a classic case of overfitting. max_depth=4 and n_estimators=10 gives pretty much satisfying results by making sure model is able to generalize well.\n",
        "'''\n",
        "\n",
        "from sklearn.ensemble import RandomForestClassifier\n",
        "clf = RandomForestClassifier(max_depth=4,n_estimators=100,random_state=42).fit(X_train, y_train)\n",
        "\n",
        "print('RF Accuracy on training set: {:.2f}'.format(clf.score(X_train, y_train)))\n",
        "print('RF Accuracy on test set: {:.2f}'.format(clf.score(X_test, y_test)))"
      ],
      "metadata": {
        "execution": {
          "iopub.status.busy": "2021-05-27T17:19:54.632971Z",
          "iopub.execute_input": "2021-05-27T17:19:54.633377Z",
          "iopub.status.idle": "2021-05-27T17:19:55.008961Z",
          "shell.execute_reply.started": "2021-05-27T17:19:54.633347Z",
          "shell.execute_reply": "2021-05-27T17:19:55.008135Z"
        },
        "trusted": true,
        "id": "egerFjrsj3JC"
      },
      "execution_count": null,
      "outputs": []
    },
    {
      "cell_type": "markdown",
      "source": [
        "### <div style=\"color:blue;\"><b> Classification report </b></div>\n",
        "\n",
        "#### **Let's use <u>yellowbrick</u> for classification report as they are great for visualizing in a tabular format**"
      ],
      "metadata": {
        "execution": {
          "iopub.status.busy": "2021-05-27T09:17:06.539847Z",
          "iopub.execute_input": "2021-05-27T09:17:06.540362Z",
          "iopub.status.idle": "2021-05-27T09:17:06.545961Z",
          "shell.execute_reply.started": "2021-05-27T09:17:06.540325Z",
          "shell.execute_reply": "2021-05-27T09:17:06.544626Z"
        },
        "id": "z77sX6sVj3JC"
      }
    },
    {
      "cell_type": "code",
      "source": [
        "from yellowbrick.classifier import ClassificationReport\n",
        "classes=list(targets.values())\n",
        "visualizer = ClassificationReport(clf, classes=classes, support=True,cmap=\"Blues\")\n",
        "\n",
        "visualizer.fit(X_train, y_train)  # Fit the visualizer and the model\n",
        "visualizer.score(X_test, y_test)  # Evaluate the model on the test data\n",
        "visualizer.show()"
      ],
      "metadata": {
        "execution": {
          "iopub.status.busy": "2021-05-27T17:19:55.010112Z",
          "iopub.execute_input": "2021-05-27T17:19:55.010407Z",
          "iopub.status.idle": "2021-05-27T17:19:56.079566Z",
          "shell.execute_reply.started": "2021-05-27T17:19:55.01038Z",
          "shell.execute_reply": "2021-05-27T17:19:56.07851Z"
        },
        "trusted": true,
        "id": "mTU4U08sj3JC"
      },
      "execution_count": null,
      "outputs": []
    },
    {
      "cell_type": "markdown",
      "source": [
        "## Classification using Gradient Boosting\n",
        "<hr>"
      ],
      "metadata": {
        "execution": {
          "iopub.status.busy": "2021-05-26T16:46:54.306782Z",
          "iopub.execute_input": "2021-05-26T16:46:54.307053Z",
          "iopub.status.idle": "2021-05-26T16:46:54.313148Z",
          "shell.execute_reply.started": "2021-05-26T16:46:54.30703Z",
          "shell.execute_reply": "2021-05-26T16:46:54.311805Z"
        },
        "id": "xyLTSC0Cj3JD"
      }
    },
    {
      "cell_type": "code",
      "source": [
        "from sklearn.ensemble import GradientBoostingClassifier\n",
        "grad = GradientBoostingClassifier().fit(X_train, y_train)\n",
        "print('Gradient Boosting accuracy : {}'.format(grad.score(X_test,y_test)))"
      ],
      "metadata": {
        "execution": {
          "iopub.status.busy": "2021-05-27T17:19:56.080899Z",
          "iopub.execute_input": "2021-05-27T17:19:56.081248Z",
          "iopub.status.idle": "2021-05-27T17:20:05.307406Z",
          "shell.execute_reply.started": "2021-05-27T17:19:56.081214Z",
          "shell.execute_reply": "2021-05-27T17:20:05.306228Z"
        },
        "trusted": true,
        "id": "yo1jA7Krj3JD"
      },
      "execution_count": null,
      "outputs": []
    },
    {
      "cell_type": "markdown",
      "source": [
        "\n",
        "<h2><center> If you learnt something new or liked this kernel, please consider upvoting. Happy Kaggling.</center></h2>"
      ],
      "metadata": {
        "execution": {
          "iopub.status.busy": "2021-05-27T17:17:53.77786Z",
          "iopub.execute_input": "2021-05-27T17:17:53.778388Z",
          "iopub.status.idle": "2021-05-27T17:17:53.787399Z",
          "shell.execute_reply.started": "2021-05-27T17:17:53.778344Z",
          "shell.execute_reply": "2021-05-27T17:17:53.785161Z"
        },
        "id": "XYF3qAL1j3JD"
      }
    }
  ]
}